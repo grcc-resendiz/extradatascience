{
  "nbformat": 4,
  "nbformat_minor": 0,
  "metadata": {
    "colab": {
      "provenance": []
    },
    "kernelspec": {
      "name": "python3",
      "display_name": "Python 3"
    },
    "language_info": {
      "name": "python"
    }
  },
  "cells": [
    {
      "cell_type": "markdown",
      "source": [
        "# CIS 230 Final Exam\n",
        "\n",
        "The following notebook could be used as a shell to complete your CIS 230 final project/exam. Feel free to make as many Code or Text sections as you need. The sections provided are just meant as a guide and/or suggestion for you to consider. There's no unique correct answer and part of the project is that you can justify your approach."
      ],
      "metadata": {
        "id": "Jmzk_--6jYY4"
      }
    },
    {
      "cell_type": "markdown",
      "source": [
        "# Section 1: Problem Scoping\n",
        "\n",
        "Use the following section to summarize the information from the PPT, describe the roadmap you attempt to take on the problem, and/or metrics that you think would make a succesful solution."
      ],
      "metadata": {
        "id": "4UV4ais7oVvx"
      }
    },
    {
      "cell_type": "code",
      "source": [
        "# Enter your answer here"
      ],
      "metadata": {
        "id": "a2LqSv-CpsMs"
      },
      "execution_count": 1,
      "outputs": []
    },
    {
      "cell_type": "markdown",
      "source": [
        "# Section 2: Data Acquisition\n",
        "\n",
        "Two important things you should do here:\n",
        "* Import Packages\n",
        "\n",
        "* Import Data"
      ],
      "metadata": {
        "id": "gGMDrE-epu0E"
      }
    },
    {
      "cell_type": "code",
      "source": [
        "# Enter your answer here"
      ],
      "metadata": {
        "id": "i8deZ1ocqdJJ"
      },
      "execution_count": null,
      "outputs": []
    },
    {
      "cell_type": "markdown",
      "source": [
        "# Section 3: Data Exploration\n",
        "\n",
        "This section will be a big portion of the notebook. Remember that there's no single correct answer. However, there are some portions that I recommend you incorporate here:\n",
        "\n",
        "* Do a quick write up of the features.\n",
        "\n",
        "* Data Quality and Missing Values.\n",
        "\n",
        ">* Explicitly show missing values\n",
        ">* Describe your approach to cleaning the data\n",
        ">* Clean/Imput the data\n",
        "\n",
        "* Convert categorical data into numerical data"
      ],
      "metadata": {
        "id": "QsGhFgCRrcO2"
      }
    },
    {
      "cell_type": "code",
      "source": [
        "# Enter your answer here.\n",
        "# Remember that you can add Text Sections as you see fit.\n",
        "# You are not limited to having only code sections."
      ],
      "metadata": {
        "id": "tW5u1pUqtqom"
      },
      "execution_count": null,
      "outputs": []
    },
    {
      "cell_type": "markdown",
      "source": [
        "# Section 4: Modeling\n",
        "\n",
        "This section will allow you set up your models. Pick three of the algorithms we have explored, you can pick more if you wish even if we have not used them in class. I would recommend that you also incorporate Text sections or comments that explain/show your rationale to optimize the models.\n",
        "\n",
        "* Separate your data into training and testing sets\n",
        "\n",
        "* Use a separate code section for each model\n",
        "\n",
        "* Make sure you feed the test data after you have trained the model"
      ],
      "metadata": {
        "id": "dccr4D7NuMU8"
      }
    },
    {
      "cell_type": "code",
      "source": [
        "# Enter your answer here"
      ],
      "metadata": {
        "id": "y-X3UlI_wPsj"
      },
      "execution_count": null,
      "outputs": []
    },
    {
      "cell_type": "markdown",
      "source": [
        "# Section 5: Evaluate\n",
        "\n",
        "Use this section to show the result of each of the models. You can reuse some of the techniques we used in Week 6 to justify your analysis on the best result."
      ],
      "metadata": {
        "id": "4xy_0NHuw-K-"
      }
    },
    {
      "cell_type": "code",
      "source": [
        "# Enter you answer here"
      ],
      "metadata": {
        "id": "Ha_JYFCeyNnV"
      },
      "execution_count": null,
      "outputs": []
    },
    {
      "cell_type": "markdown",
      "source": [
        "# Section 6: Deployment/Tell your Story\n",
        "\n",
        "This section will showcase your findings and you can incorporate potential ways to automate this approach."
      ],
      "metadata": {
        "id": "bz0jDdWRyTRK"
      }
    },
    {
      "cell_type": "code",
      "source": [
        "# Enter you answer here"
      ],
      "metadata": {
        "id": "5olqJQZOznTk"
      },
      "execution_count": null,
      "outputs": []
    }
  ]
}