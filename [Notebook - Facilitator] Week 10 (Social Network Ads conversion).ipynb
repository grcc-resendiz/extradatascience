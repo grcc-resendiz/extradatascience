{
 "cells": [
  {
   "cell_type": "markdown",
   "metadata": {},
   "source": [
    "# Social network ads conversion prediction\n",
    "\n",
    "## Introduction\n",
    "\n",
    "Artificial intelligence is commonly used in various spheres to automate processes, gather insights, and speed up processes. You will use Python to study an interesting use of artificial intelligence in a real-life scenario - how AI can be used to predict whether a social media user will buy a product shown in an ad based on other informations.\n",
    "\n",
    "\n",
    "## Context\n",
    "\n",
    "We will be working with a categorical dataset to determine whether a user purchased a particular product. The dataset can be downloaded from Kaggle (https://www.kaggle.com/datasets/rakeshrau/social-network-ads).\n",
    "\n",
    "\n",
    "## Use Python to open csv files\n",
    "\n",
    "We will use the [pandas](https://pandas.pydata.org/), [matplotlib](https://matplotlib.org/) and [scikit-learn](https://scikit-learn.org/stable/) libraries to work with our dataset. Pandas is a popular Python library for data science. It offers powerful and flexible data structures to make data manipulation and analysis easier. Scikit-learn is a very useful machine learning library that provides efficient tools for predictive data analysis. Matplotlib is a Python 2D plotting library that we can use to produce high quality data visualization. It is highly usable (as you will soon find out), you can create simple and complex graphs with just a few lines of codes!"
   ]
  },
  {
   "cell_type": "code",
   "execution_count": 1,
   "metadata": {},
   "outputs": [],
   "source": [
    "#logistic regression example\n",
    "import pandas as pd\n",
    "import numpy as np\n",
    "import matplotlib.pyplot as plt\n",
    "import seaborn as sns"
   ]
  },
  {
   "cell_type": "code",
   "execution_count": 3,
   "metadata": {},
   "outputs": [],
   "source": [
    "#Enter the path where you have saved the dataset\n",
    "df=pd.read_csv('C:\\Python projects\\Artificial_Neural_Networks\\Artificial_Neural_Networks\\Social_Network_Ads_logistic regression.csv')"
   ]
  },
  {
   "cell_type": "code",
   "execution_count": 4,
   "metadata": {
    "scrolled": true
   },
   "outputs": [
    {
     "data": {
      "text/html": [
       "<div>\n",
       "<style scoped>\n",
       "    .dataframe tbody tr th:only-of-type {\n",
       "        vertical-align: middle;\n",
       "    }\n",
       "\n",
       "    .dataframe tbody tr th {\n",
       "        vertical-align: top;\n",
       "    }\n",
       "\n",
       "    .dataframe thead th {\n",
       "        text-align: right;\n",
       "    }\n",
       "</style>\n",
       "<table border=\"1\" class=\"dataframe\">\n",
       "  <thead>\n",
       "    <tr style=\"text-align: right;\">\n",
       "      <th></th>\n",
       "      <th>User ID</th>\n",
       "      <th>Gender</th>\n",
       "      <th>Age</th>\n",
       "      <th>EstimatedSalary</th>\n",
       "      <th>Purchased</th>\n",
       "    </tr>\n",
       "  </thead>\n",
       "  <tbody>\n",
       "    <tr>\n",
       "      <th>0</th>\n",
       "      <td>15624510</td>\n",
       "      <td>Male</td>\n",
       "      <td>19</td>\n",
       "      <td>19000</td>\n",
       "      <td>0</td>\n",
       "    </tr>\n",
       "    <tr>\n",
       "      <th>1</th>\n",
       "      <td>15810944</td>\n",
       "      <td>Male</td>\n",
       "      <td>35</td>\n",
       "      <td>20000</td>\n",
       "      <td>0</td>\n",
       "    </tr>\n",
       "    <tr>\n",
       "      <th>2</th>\n",
       "      <td>15668575</td>\n",
       "      <td>Female</td>\n",
       "      <td>26</td>\n",
       "      <td>43000</td>\n",
       "      <td>0</td>\n",
       "    </tr>\n",
       "    <tr>\n",
       "      <th>3</th>\n",
       "      <td>15603246</td>\n",
       "      <td>Female</td>\n",
       "      <td>27</td>\n",
       "      <td>57000</td>\n",
       "      <td>0</td>\n",
       "    </tr>\n",
       "    <tr>\n",
       "      <th>4</th>\n",
       "      <td>15804002</td>\n",
       "      <td>Male</td>\n",
       "      <td>19</td>\n",
       "      <td>76000</td>\n",
       "      <td>0</td>\n",
       "    </tr>\n",
       "    <tr>\n",
       "      <th>...</th>\n",
       "      <td>...</td>\n",
       "      <td>...</td>\n",
       "      <td>...</td>\n",
       "      <td>...</td>\n",
       "      <td>...</td>\n",
       "    </tr>\n",
       "    <tr>\n",
       "      <th>395</th>\n",
       "      <td>15691863</td>\n",
       "      <td>Female</td>\n",
       "      <td>46</td>\n",
       "      <td>41000</td>\n",
       "      <td>1</td>\n",
       "    </tr>\n",
       "    <tr>\n",
       "      <th>396</th>\n",
       "      <td>15706071</td>\n",
       "      <td>Male</td>\n",
       "      <td>51</td>\n",
       "      <td>23000</td>\n",
       "      <td>1</td>\n",
       "    </tr>\n",
       "    <tr>\n",
       "      <th>397</th>\n",
       "      <td>15654296</td>\n",
       "      <td>Female</td>\n",
       "      <td>50</td>\n",
       "      <td>20000</td>\n",
       "      <td>1</td>\n",
       "    </tr>\n",
       "    <tr>\n",
       "      <th>398</th>\n",
       "      <td>15755018</td>\n",
       "      <td>Male</td>\n",
       "      <td>36</td>\n",
       "      <td>33000</td>\n",
       "      <td>0</td>\n",
       "    </tr>\n",
       "    <tr>\n",
       "      <th>399</th>\n",
       "      <td>15594041</td>\n",
       "      <td>Female</td>\n",
       "      <td>49</td>\n",
       "      <td>36000</td>\n",
       "      <td>1</td>\n",
       "    </tr>\n",
       "  </tbody>\n",
       "</table>\n",
       "<p>400 rows × 5 columns</p>\n",
       "</div>"
      ],
      "text/plain": [
       "      User ID  Gender  Age  EstimatedSalary  Purchased\n",
       "0    15624510    Male   19            19000          0\n",
       "1    15810944    Male   35            20000          0\n",
       "2    15668575  Female   26            43000          0\n",
       "3    15603246  Female   27            57000          0\n",
       "4    15804002    Male   19            76000          0\n",
       "..        ...     ...  ...              ...        ...\n",
       "395  15691863  Female   46            41000          1\n",
       "396  15706071    Male   51            23000          1\n",
       "397  15654296  Female   50            20000          1\n",
       "398  15755018    Male   36            33000          0\n",
       "399  15594041  Female   49            36000          1\n",
       "\n",
       "[400 rows x 5 columns]"
      ]
     },
     "execution_count": 4,
     "metadata": {},
     "output_type": "execute_result"
    }
   ],
   "source": [
    "df"
   ]
  },
  {
   "cell_type": "markdown",
   "metadata": {},
   "source": [
    "#### Converting the categorical variable to numbers"
   ]
  },
  {
   "cell_type": "code",
   "execution_count": 5,
   "metadata": {},
   "outputs": [
    {
     "data": {
      "text/html": [
       "<div>\n",
       "<style scoped>\n",
       "    .dataframe tbody tr th:only-of-type {\n",
       "        vertical-align: middle;\n",
       "    }\n",
       "\n",
       "    .dataframe tbody tr th {\n",
       "        vertical-align: top;\n",
       "    }\n",
       "\n",
       "    .dataframe thead th {\n",
       "        text-align: right;\n",
       "    }\n",
       "</style>\n",
       "<table border=\"1\" class=\"dataframe\">\n",
       "  <thead>\n",
       "    <tr style=\"text-align: right;\">\n",
       "      <th></th>\n",
       "      <th>User ID</th>\n",
       "      <th>Gender</th>\n",
       "      <th>Age</th>\n",
       "      <th>EstimatedSalary</th>\n",
       "      <th>Purchased</th>\n",
       "    </tr>\n",
       "  </thead>\n",
       "  <tbody>\n",
       "    <tr>\n",
       "      <th>0</th>\n",
       "      <td>15624510</td>\n",
       "      <td>0</td>\n",
       "      <td>19</td>\n",
       "      <td>19000</td>\n",
       "      <td>0</td>\n",
       "    </tr>\n",
       "    <tr>\n",
       "      <th>1</th>\n",
       "      <td>15810944</td>\n",
       "      <td>0</td>\n",
       "      <td>35</td>\n",
       "      <td>20000</td>\n",
       "      <td>0</td>\n",
       "    </tr>\n",
       "    <tr>\n",
       "      <th>2</th>\n",
       "      <td>15668575</td>\n",
       "      <td>1</td>\n",
       "      <td>26</td>\n",
       "      <td>43000</td>\n",
       "      <td>0</td>\n",
       "    </tr>\n",
       "    <tr>\n",
       "      <th>3</th>\n",
       "      <td>15603246</td>\n",
       "      <td>1</td>\n",
       "      <td>27</td>\n",
       "      <td>57000</td>\n",
       "      <td>0</td>\n",
       "    </tr>\n",
       "    <tr>\n",
       "      <th>4</th>\n",
       "      <td>15804002</td>\n",
       "      <td>0</td>\n",
       "      <td>19</td>\n",
       "      <td>76000</td>\n",
       "      <td>0</td>\n",
       "    </tr>\n",
       "    <tr>\n",
       "      <th>...</th>\n",
       "      <td>...</td>\n",
       "      <td>...</td>\n",
       "      <td>...</td>\n",
       "      <td>...</td>\n",
       "      <td>...</td>\n",
       "    </tr>\n",
       "    <tr>\n",
       "      <th>395</th>\n",
       "      <td>15691863</td>\n",
       "      <td>1</td>\n",
       "      <td>46</td>\n",
       "      <td>41000</td>\n",
       "      <td>1</td>\n",
       "    </tr>\n",
       "    <tr>\n",
       "      <th>396</th>\n",
       "      <td>15706071</td>\n",
       "      <td>0</td>\n",
       "      <td>51</td>\n",
       "      <td>23000</td>\n",
       "      <td>1</td>\n",
       "    </tr>\n",
       "    <tr>\n",
       "      <th>397</th>\n",
       "      <td>15654296</td>\n",
       "      <td>1</td>\n",
       "      <td>50</td>\n",
       "      <td>20000</td>\n",
       "      <td>1</td>\n",
       "    </tr>\n",
       "    <tr>\n",
       "      <th>398</th>\n",
       "      <td>15755018</td>\n",
       "      <td>0</td>\n",
       "      <td>36</td>\n",
       "      <td>33000</td>\n",
       "      <td>0</td>\n",
       "    </tr>\n",
       "    <tr>\n",
       "      <th>399</th>\n",
       "      <td>15594041</td>\n",
       "      <td>1</td>\n",
       "      <td>49</td>\n",
       "      <td>36000</td>\n",
       "      <td>1</td>\n",
       "    </tr>\n",
       "  </tbody>\n",
       "</table>\n",
       "<p>400 rows × 5 columns</p>\n",
       "</div>"
      ],
      "text/plain": [
       "      User ID  Gender  Age  EstimatedSalary  Purchased\n",
       "0    15624510       0   19            19000          0\n",
       "1    15810944       0   35            20000          0\n",
       "2    15668575       1   26            43000          0\n",
       "3    15603246       1   27            57000          0\n",
       "4    15804002       0   19            76000          0\n",
       "..        ...     ...  ...              ...        ...\n",
       "395  15691863       1   46            41000          1\n",
       "396  15706071       0   51            23000          1\n",
       "397  15654296       1   50            20000          1\n",
       "398  15755018       0   36            33000          0\n",
       "399  15594041       1   49            36000          1\n",
       "\n",
       "[400 rows x 5 columns]"
      ]
     },
     "execution_count": 5,
     "metadata": {},
     "output_type": "execute_result"
    }
   ],
   "source": [
    "gender_to_idx = {'Male': 0, 'Female': 1}\n",
    "df.replace(gender_to_idx, inplace=True)\n",
    "df"
   ]
  },
  {
   "cell_type": "code",
   "execution_count": 6,
   "metadata": {},
   "outputs": [
    {
     "name": "stdout",
     "output_type": "stream",
     "text": [
      "<class 'pandas.core.frame.DataFrame'>\n",
      "RangeIndex: 400 entries, 0 to 399\n",
      "Data columns (total 5 columns):\n",
      " #   Column           Non-Null Count  Dtype\n",
      "---  ------           --------------  -----\n",
      " 0   User ID          400 non-null    int64\n",
      " 1   Gender           400 non-null    int64\n",
      " 2   Age              400 non-null    int64\n",
      " 3   EstimatedSalary  400 non-null    int64\n",
      " 4   Purchased        400 non-null    int64\n",
      "dtypes: int64(5)\n",
      "memory usage: 15.8 KB\n"
     ]
    }
   ],
   "source": [
    "df.info()"
   ]
  },
  {
   "cell_type": "code",
   "execution_count": 8,
   "metadata": {},
   "outputs": [
    {
     "data": {
      "text/html": [
       "<div>\n",
       "<style scoped>\n",
       "    .dataframe tbody tr th:only-of-type {\n",
       "        vertical-align: middle;\n",
       "    }\n",
       "\n",
       "    .dataframe tbody tr th {\n",
       "        vertical-align: top;\n",
       "    }\n",
       "\n",
       "    .dataframe thead th {\n",
       "        text-align: right;\n",
       "    }\n",
       "</style>\n",
       "<table border=\"1\" class=\"dataframe\">\n",
       "  <thead>\n",
       "    <tr style=\"text-align: right;\">\n",
       "      <th></th>\n",
       "      <th>Gender</th>\n",
       "      <th>Age</th>\n",
       "      <th>EstimatedSalary</th>\n",
       "      <th>Purchased</th>\n",
       "    </tr>\n",
       "  </thead>\n",
       "  <tbody>\n",
       "    <tr>\n",
       "      <th>0</th>\n",
       "      <td>0</td>\n",
       "      <td>19</td>\n",
       "      <td>19000</td>\n",
       "      <td>0</td>\n",
       "    </tr>\n",
       "    <tr>\n",
       "      <th>1</th>\n",
       "      <td>0</td>\n",
       "      <td>35</td>\n",
       "      <td>20000</td>\n",
       "      <td>0</td>\n",
       "    </tr>\n",
       "    <tr>\n",
       "      <th>2</th>\n",
       "      <td>1</td>\n",
       "      <td>26</td>\n",
       "      <td>43000</td>\n",
       "      <td>0</td>\n",
       "    </tr>\n",
       "    <tr>\n",
       "      <th>3</th>\n",
       "      <td>1</td>\n",
       "      <td>27</td>\n",
       "      <td>57000</td>\n",
       "      <td>0</td>\n",
       "    </tr>\n",
       "    <tr>\n",
       "      <th>4</th>\n",
       "      <td>0</td>\n",
       "      <td>19</td>\n",
       "      <td>76000</td>\n",
       "      <td>0</td>\n",
       "    </tr>\n",
       "  </tbody>\n",
       "</table>\n",
       "</div>"
      ],
      "text/plain": [
       "   Gender  Age  EstimatedSalary  Purchased\n",
       "0       0   19            19000          0\n",
       "1       0   35            20000          0\n",
       "2       1   26            43000          0\n",
       "3       1   27            57000          0\n",
       "4       0   19            76000          0"
      ]
     },
     "execution_count": 8,
     "metadata": {},
     "output_type": "execute_result"
    }
   ],
   "source": [
    "#Dropping the variable which will not be important to the model for classifying\n",
    "df.drop([\"User ID\"], axis = 1, inplace = True)\n",
    "df.head()"
   ]
  },
  {
   "cell_type": "code",
   "execution_count": 9,
   "metadata": {},
   "outputs": [
    {
     "data": {
      "text/plain": [
       "<seaborn.axisgrid.PairGrid at 0x1580b332dc8>"
      ]
     },
     "execution_count": 9,
     "metadata": {},
     "output_type": "execute_result"
    },
    {
     "data": {
      "image/png": "[encoded data removed]",
      "text/plain": [
       "<Figure size 720x720 with 20 Axes>"
      ]
     },
     "metadata": {
      "needs_background": "light"
     },
     "output_type": "display_data"
    }
   ],
   "source": [
    "sns.pairplot(df)"
   ]
  },
  {
   "cell_type": "code",
   "execution_count": 13,
   "metadata": {},
   "outputs": [
    {
     "data": {
      "image/png": "[encoded data removed]",
      "text/plain": [
       "<Figure size 576x360 with 1 Axes>"
      ]
     },
     "metadata": {
      "needs_background": "light"
     },
     "output_type": "display_data"
    }
   ],
   "source": [
    "#Viewing the dataset plotted with respect to the two classes\n",
    "abc_zero = df[df['Purchased'] == 0].index\n",
    "abc_one = df[df['Purchased'] == 1].index\n",
    "plt.figure(figsize=(8,5))\n",
    "plt.title(\"Age/Salary vs ADS Purchase\")\n",
    "plt.plot(df['Age'][abc_zero], df['EstimatedSalary'][abc_zero], 'bo', label='Not Purchased')\n",
    "plt.plot(df['Age'][abc_one], df['EstimatedSalary'][abc_one], 'r*', label='Purchased')\n",
    "plt.ylabel('Estimated Salary')\n",
    "plt.xlabel('Age')\n",
    "plt.legend()\n",
    "plt.show()"
   ]
  },
  {
   "cell_type": "code",
   "execution_count": 10,
   "metadata": {},
   "outputs": [],
   "source": [
    "# Features\n",
    "X = df.drop('Purchased', axis =1).values\n",
    "# Target\n",
    "y= df.Purchased.values"
   ]
  },
  {
   "cell_type": "code",
   "execution_count": 11,
   "metadata": {},
   "outputs": [
    {
     "data": {
      "text/plain": [
       "array([[    0,    19, 19000],\n",
       "       [    0,    35, 20000],\n",
       "       [    1,    26, 43000],\n",
       "       ...,\n",
       "       [    1,    50, 20000],\n",
       "       [    0,    36, 33000],\n",
       "       [    1,    49, 36000]], dtype=int64)"
      ]
     },
     "execution_count": 11,
     "metadata": {},
     "output_type": "execute_result"
    }
   ],
   "source": [
    "X"
   ]
  },
  {
   "cell_type": "code",
   "execution_count": 12,
   "metadata": {},
   "outputs": [
    {
     "data": {
      "text/plain": [
       "array([0, 0, 0, 0, 0, 0, 0, 1, 0, 0, 0, 0, 0, 0, 0, 0, 1, 1, 1, 1, 1, 1,\n",
       "       1, 1, 1, 1, 1, 1, 0, 0, 0, 1, 0, 0, 0, 0, 0, 0, 0, 0, 0, 0, 0, 0,\n",
       "       0, 0, 0, 0, 1, 0, 0, 0, 0, 0, 0, 0, 0, 0, 0, 0, 0, 0, 0, 1, 0, 0,\n",
       "       0, 0, 0, 0, 0, 0, 0, 0, 0, 1, 0, 0, 0, 0, 0, 0, 0, 0, 0, 1, 0, 0,\n",
       "       0, 0, 0, 0, 0, 0, 0, 0, 0, 1, 0, 0, 0, 0, 0, 1, 0, 0, 0, 0, 0, 0,\n",
       "       0, 0, 0, 0, 0, 0, 0, 0, 0, 0, 0, 0, 0, 0, 0, 0, 0, 0, 0, 0, 0, 0,\n",
       "       0, 0, 0, 0, 0, 1, 0, 0, 0, 0, 0, 0, 0, 0, 1, 0, 0, 0, 0, 0, 0, 0,\n",
       "       0, 0, 0, 0, 0, 1, 1, 0, 0, 0, 0, 0, 0, 0, 1, 0, 0, 0, 0, 0, 0, 0,\n",
       "       0, 0, 0, 0, 0, 0, 1, 0, 0, 0, 0, 0, 0, 0, 0, 0, 0, 0, 0, 0, 0, 0,\n",
       "       0, 0, 0, 0, 1, 0, 1, 0, 1, 0, 1, 0, 1, 1, 0, 0, 0, 1, 0, 0, 0, 1,\n",
       "       0, 1, 1, 1, 0, 0, 1, 1, 0, 1, 1, 0, 1, 1, 0, 1, 0, 0, 0, 1, 1, 0,\n",
       "       1, 1, 0, 1, 0, 1, 0, 1, 0, 0, 1, 1, 0, 1, 0, 0, 1, 1, 0, 1, 1, 0,\n",
       "       1, 1, 0, 0, 1, 0, 0, 1, 1, 1, 1, 1, 0, 1, 1, 1, 1, 0, 1, 1, 0, 1,\n",
       "       0, 1, 0, 1, 1, 1, 1, 0, 0, 0, 1, 1, 0, 1, 1, 1, 1, 1, 0, 0, 0, 1,\n",
       "       1, 0, 0, 1, 0, 1, 0, 1, 1, 0, 1, 0, 1, 1, 0, 1, 1, 0, 0, 0, 1, 1,\n",
       "       0, 1, 0, 0, 1, 0, 1, 0, 0, 1, 1, 0, 0, 1, 1, 0, 1, 1, 0, 0, 1, 0,\n",
       "       1, 0, 1, 1, 1, 0, 1, 0, 1, 1, 1, 0, 1, 1, 1, 1, 0, 1, 1, 1, 0, 1,\n",
       "       0, 1, 0, 0, 1, 1, 0, 1, 1, 1, 1, 1, 1, 0, 1, 1, 1, 1, 1, 1, 0, 1,\n",
       "       1, 1, 0, 1], dtype=int64)"
      ]
     },
     "execution_count": 12,
     "metadata": {},
     "output_type": "execute_result"
    }
   ],
   "source": [
    "y"
   ]
  },
  {
   "cell_type": "markdown",
   "metadata": {},
   "source": [
    "# **Split data into separate training and test set**\n",
    "\n",
    "Split the dataset into training dataset and test dataset. The training dataset is used to train the model while the test dataset is used to test the model’s performance on new data."
   ]
  },
  {
   "cell_type": "code",
   "execution_count": 13,
   "metadata": {},
   "outputs": [],
   "source": [
    "from sklearn.model_selection import train_test_split\n",
    "X_train, X_test, y_train, y_test = train_test_split(X, y, test_size=0.2, random_state=42)"
   ]
  },
  {
   "cell_type": "code",
   "execution_count": 14,
   "metadata": {},
   "outputs": [
    {
     "data": {
      "text/plain": [
       "array([[     1,     27,  57000],\n",
       "       [     0,     46,  28000],\n",
       "       [     1,     39, 134000],\n",
       "       [     1,     44,  39000],\n",
       "       [     1,     57,  26000],\n",
       "       [     0,     32, 120000],\n",
       "       [     0,     41,  52000],\n",
       "       [     0,     48,  74000],\n",
       "       [     0,     26,  86000],\n",
       "       [     0,     22,  81000],\n",
       "       [     0,     49,  86000],\n",
       "       [     1,     36,  54000],\n",
       "       [     0,     40,  59000],\n",
       "       [     1,     41,  80000],\n",
       "       [     0,     26,  16000],\n",
       "       [     1,     39,  79000],\n",
       "       [     0,     59, 130000],\n",
       "       [     0,     42,  64000],\n",
       "       [     1,     53, 143000],\n",
       "       [     0,     34, 112000],\n",
       "       [     1,     57, 122000],\n",
       "       [     1,     39,  71000],\n",
       "       [     0,     47,  25000],\n",
       "       [     0,     24,  19000],\n",
       "       [     1,     36,  50000],\n",
       "       [     1,     32, 150000],\n",
       "       [     1,     48,  29000],\n",
       "       [     0,     30, 107000],\n",
       "       [     0,     60,  34000],\n",
       "       [     0,     38,  61000],\n",
       "       [     0,     33,  31000],\n",
       "       [     0,     39,  71000],\n",
       "       [     0,     55,  39000],\n",
       "       [     1,     49,  39000],\n",
       "       [     1,     43, 112000],\n",
       "       [     0,     27,  20000],\n",
       "       [     1,     26,  17000],\n",
       "       [     1,     37,  93000],\n",
       "       [     0,     42,  54000],\n",
       "       [     0,     35,  61000],\n",
       "       [     0,     29,  75000],\n",
       "       [     1,     38,  80000],\n",
       "       [     0,     45,  26000],\n",
       "       [     1,     54, 108000],\n",
       "       [     0,     46,  23000],\n",
       "       [     1,     23,  28000],\n",
       "       [     0,     37,  75000],\n",
       "       [     0,     42,  65000],\n",
       "       [     1,     35,  71000],\n",
       "       [     1,     51, 146000],\n",
       "       [     0,     39,  96000],\n",
       "       [     1,     24,  89000],\n",
       "       [     1,     58,  95000],\n",
       "       [     0,     25,  22000],\n",
       "       [     0,     41,  59000],\n",
       "       [     0,     28,  89000],\n",
       "       [     1,     42,  80000],\n",
       "       [     1,     42, 108000],\n",
       "       [     1,     46,  96000],\n",
       "       [     1,     47, 113000],\n",
       "       [     1,     33,  28000],\n",
       "       [     0,     19,  25000],\n",
       "       [     0,     49,  89000],\n",
       "       [     1,     31,  15000],\n",
       "       [     1,     30,  79000],\n",
       "       [     0,     48, 141000],\n",
       "       [     1,     32, 117000],\n",
       "       [     1,     37,  71000],\n",
       "       [     1,     18,  86000],\n",
       "       [     1,     42,  79000],\n",
       "       [     1,     27,  84000],\n",
       "       [     0,     40,  65000],\n",
       "       [     0,     57,  74000],\n",
       "       [     1,     26,  15000],\n",
       "       [     1,     26,  80000],\n",
       "       [     0,     29,  43000],\n",
       "       [     1,     33, 149000],\n",
       "       [     0,     39,  42000],\n",
       "       [     1,     54, 104000],\n",
       "       [     0,     36,  33000],\n",
       "       [     1,     46,  32000],\n",
       "       [     1,     40, 142000],\n",
       "       [     1,     37,  62000],\n",
       "       [     0,     29, 148000],\n",
       "       [     1,     37,  57000],\n",
       "       [     0,     35,  50000],\n",
       "       [     1,     42,  53000],\n",
       "       [     0,     35,  38000],\n",
       "       [     1,     41,  30000],\n",
       "       [     1,     40,  72000],\n",
       "       [     0,     26,  15000],\n",
       "       [     1,     31,  68000],\n",
       "       [     0,     35,  53000],\n",
       "       [     1,     35,  25000],\n",
       "       [     0,     30,  89000],\n",
       "       [     0,     41,  72000],\n",
       "       [     0,     28, 123000],\n",
       "       [     1,     46,  82000],\n",
       "       [     1,     22,  63000],\n",
       "       [     1,     45,  22000],\n",
       "       [     0,     30,  49000],\n",
       "       [     1,     34,  25000],\n",
       "       [     1,     40,  75000],\n",
       "       [     1,     32, 117000],\n",
       "       [     1,     23,  82000],\n",
       "       [     0,     26,  80000],\n",
       "       [     1,     48, 131000],\n",
       "       [     0,     59, 143000],\n",
       "       [     0,     35,  55000],\n",
       "       [     0,     34,  43000],\n",
       "       [     1,     39,  61000],\n",
       "       [     1,     27,  96000],\n",
       "       [     0,     60,  83000],\n",
       "       [     0,     24,  55000],\n",
       "       [     0,     58, 144000],\n",
       "       [     1,     53, 104000],\n",
       "       [     0,     35,  79000],\n",
       "       [     0,     36,  99000],\n",
       "       [     0,     57,  60000],\n",
       "       [     1,     37, 137000],\n",
       "       [     0,     33,  43000],\n",
       "       [     1,     41,  71000],\n",
       "       [     1,     52,  21000],\n",
       "       [     0,     52, 150000],\n",
       "       [     0,     37,  70000],\n",
       "       [     1,     26,  84000],\n",
       "       [     1,     26,  72000],\n",
       "       [     1,     26,  52000],\n",
       "       [     1,     41,  60000],\n",
       "       [     0,     31,  66000],\n",
       "       [     0,     37, 144000],\n",
       "       [     0,     38,  61000],\n",
       "       [     1,     31,  34000],\n",
       "       [     1,     42,  75000],\n",
       "       [     0,     46, 117000],\n",
       "       [     0,     36,  52000],\n",
       "       [     0,     38,  71000],\n",
       "       [     0,     49,  88000],\n",
       "       [     1,     57,  33000],\n",
       "       [     1,     48, 138000],\n",
       "       [     1,     47,  50000],\n",
       "       [     1,     33,  69000],\n",
       "       [     1,     37, 146000],\n",
       "       [     1,     20,  82000],\n",
       "       [     0,     40,  47000],\n",
       "       [     0,     35,  22000],\n",
       "       [     1,     20,  36000],\n",
       "       [     1,     45,  45000],\n",
       "       [     1,     26,  43000],\n",
       "       [     1,     58, 101000],\n",
       "       [     0,     40,  57000],\n",
       "       [     1,     38, 112000],\n",
       "       [     1,     37,  80000],\n",
       "       [     0,     49,  28000],\n",
       "       [     1,     36,  75000],\n",
       "       [     1,     41,  72000],\n",
       "       [     1,     35,  60000],\n",
       "       [     0,     43, 129000],\n",
       "       [     0,     41,  87000],\n",
       "       [     1,     38, 113000],\n",
       "       [     1,     58,  23000],\n",
       "       [     0,     26,  32000],\n",
       "       [     0,     32,  18000],\n",
       "       [     0,     41,  52000],\n",
       "       [     0,     31,  18000],\n",
       "       [     0,     35,  88000],\n",
       "       [     1,     48,  35000],\n",
       "       [     0,     27,  89000],\n",
       "       [     1,     35,  97000],\n",
       "       [     0,     42,  73000],\n",
       "       [     1,     21,  68000],\n",
       "       [     1,     41,  72000],\n",
       "       [     1,     33,  60000],\n",
       "       [     0,     39, 134000],\n",
       "       [     1,     28,  84000],\n",
       "       [     0,     46,  88000],\n",
       "       [     0,     24,  58000],\n",
       "       [     1,     31, 118000],\n",
       "       [     1,     50,  88000],\n",
       "       [     1,     20,  82000],\n",
       "       [     1,     32, 135000],\n",
       "       [     0,     20,  86000],\n",
       "       [     0,     35,  27000],\n",
       "       [     0,     29,  43000],\n",
       "       [     0,     21,  88000],\n",
       "       [     0,     35,  59000],\n",
       "       [     0,     45,  32000],\n",
       "       [     0,     60,  42000],\n",
       "       [     0,     35,  91000],\n",
       "       [     1,     35,  44000],\n",
       "       [     1,     18,  44000],\n",
       "       [     0,     42, 149000],\n",
       "       [     0,     45,  79000],\n",
       "       [     1,     40,  60000],\n",
       "       [     0,     24,  23000],\n",
       "       [     1,     33,  51000],\n",
       "       [     1,     42,  70000],\n",
       "       [     1,     55, 130000],\n",
       "       [     1,     50,  44000],\n",
       "       [     1,     48, 119000],\n",
       "       [     0,     19,  76000],\n",
       "       [     1,     41,  72000],\n",
       "       [     0,     40,  71000],\n",
       "       [     0,     27,  88000],\n",
       "       [     1,     36, 126000],\n",
       "       [     0,     35,  75000],\n",
       "       [     0,     35,  58000],\n",
       "       [     0,     34, 115000],\n",
       "       [     0,     35,  73000],\n",
       "       [     1,     60, 108000],\n",
       "       [     0,     25,  87000],\n",
       "       [     1,     27,  54000],\n",
       "       [     1,     21,  16000],\n",
       "       [     0,     37,  74000],\n",
       "       [     0,     35,  39000],\n",
       "       [     0,     54,  70000],\n",
       "       [     1,     47,  30000],\n",
       "       [     1,     38,  50000],\n",
       "       [     1,     35, 147000],\n",
       "       [     1,     35,  77000],\n",
       "       [     0,     41,  79000],\n",
       "       [     1,     37,  33000],\n",
       "       [     1,     60,  46000],\n",
       "       [     1,     28,  59000],\n",
       "       [     1,     23,  66000],\n",
       "       [     0,     23,  63000],\n",
       "       [     0,     30,  17000],\n",
       "       [     0,     25,  33000],\n",
       "       [     1,     59,  83000],\n",
       "       [     1,     58,  38000],\n",
       "       [     0,     18,  82000],\n",
       "       [     0,     46,  59000],\n",
       "       [     1,     27,  17000],\n",
       "       [     1,     58,  47000],\n",
       "       [     1,     48,  30000],\n",
       "       [     0,     49,  65000],\n",
       "       [     1,     50,  36000],\n",
       "       [     0,     53,  72000],\n",
       "       [     0,     40,  57000],\n",
       "       [     1,     52, 114000],\n",
       "       [     1,     59,  42000],\n",
       "       [     1,     36,  63000],\n",
       "       [     0,     42, 104000],\n",
       "       [     0,     37,  52000],\n",
       "       [     0,     48,  33000],\n",
       "       [     1,     59,  29000],\n",
       "       [     0,     37,  79000],\n",
       "       [     0,     40,  61000],\n",
       "       [     0,     49,  74000],\n",
       "       [     0,     25,  90000],\n",
       "       [     0,     30,  15000],\n",
       "       [     0,     40,  78000],\n",
       "       [     0,     24,  84000],\n",
       "       [     1,     38,  50000],\n",
       "       [     1,     45, 131000],\n",
       "       [     0,     21,  72000],\n",
       "       [     1,     35,  23000],\n",
       "       [     0,     35,  20000],\n",
       "       [     1,     31,  89000],\n",
       "       [     0,     30,  80000],\n",
       "       [     1,     47,  47000],\n",
       "       [     0,     27,  90000],\n",
       "       [     1,     35,  72000],\n",
       "       [     1,     30, 116000],\n",
       "       [     0,     39, 122000],\n",
       "       [     1,     29,  83000],\n",
       "       [     1,     41,  63000],\n",
       "       [     0,     48,  90000],\n",
       "       [     0,     38,  59000],\n",
       "       [     0,     32,  18000],\n",
       "       [     1,     39,  75000],\n",
       "       [     0,     26,  81000],\n",
       "       [     0,     39, 106000],\n",
       "       [     1,     22,  55000],\n",
       "       [     0,     36, 118000],\n",
       "       [     0,     60,  42000],\n",
       "       [     1,     28,  55000],\n",
       "       [     1,     51, 134000],\n",
       "       [     0,     49,  28000],\n",
       "       [     0,     36,  60000],\n",
       "       [     1,     56, 104000],\n",
       "       [     1,     27,  58000],\n",
       "       [     1,     24,  32000],\n",
       "       [     1,     34,  72000],\n",
       "       [     0,     28,  32000],\n",
       "       [     1,     50,  20000],\n",
       "       [     1,     33,  41000],\n",
       "       [     1,     29,  47000],\n",
       "       [     0,     22,  18000],\n",
       "       [     0,     30, 135000],\n",
       "       [     0,     47, 105000],\n",
       "       [     0,     46,  79000],\n",
       "       [     1,     48, 134000],\n",
       "       [     1,     47,  49000],\n",
       "       [     1,     49, 141000],\n",
       "       [     0,     32, 100000],\n",
       "       [     0,     38,  71000],\n",
       "       [     1,     19,  26000],\n",
       "       [     0,     37,  77000],\n",
       "       [     1,     47,  51000],\n",
       "       [     0,     40,  57000],\n",
       "       [     0,     36, 125000],\n",
       "       [     0,     20,  74000],\n",
       "       [     0,     31,  58000],\n",
       "       [     0,     41,  45000],\n",
       "       [     0,     42,  54000],\n",
       "       [     1,     28,  37000],\n",
       "       [     1,     39,  73000],\n",
       "       [     1,     28,  85000],\n",
       "       [     0,     38,  51000],\n",
       "       [     0,     47,  43000],\n",
       "       [     0,     37,  72000],\n",
       "       [     1,     49,  36000],\n",
       "       [     0,     45,  22000],\n",
       "       [     0,     35,  72000],\n",
       "       [     1,     24,  27000],\n",
       "       [     1,     26,  35000],\n",
       "       [     1,     43, 133000],\n",
       "       [     0,     39,  77000],\n",
       "       [     1,     32,  86000]], dtype=int64)"
      ]
     },
     "execution_count": 14,
     "metadata": {},
     "output_type": "execute_result"
    }
   ],
   "source": [
    "X_train"
   ]
  },
  {
   "cell_type": "code",
   "execution_count": 15,
   "metadata": {},
   "outputs": [
    {
     "data": {
      "text/plain": [
       "array([0, 1, 1, 0, 1, 1, 0, 1, 0, 0, 1, 0, 0, 0, 0, 0, 1, 0, 1, 1, 1, 0,\n",
       "       1, 0, 0, 1, 1, 1, 1, 0, 0, 0, 1, 1, 1, 0, 0, 1, 0, 0, 0, 0, 1, 1,\n",
       "       1, 0, 0, 0, 0, 1, 1, 0, 1, 0, 0, 0, 1, 1, 0, 1, 0, 0, 1, 0, 0, 0,\n",
       "       0, 0, 0, 0, 0, 0, 1, 0, 0, 0, 1, 0, 1, 0, 1, 1, 0, 1, 0, 0, 0, 0,\n",
       "       0, 0, 0, 0, 0, 0, 0, 0, 1, 0, 0, 1, 0, 0, 0, 1, 0, 0, 1, 1, 0, 0,\n",
       "       0, 1, 1, 0, 1, 1, 0, 1, 1, 1, 0, 0, 1, 1, 1, 0, 0, 0, 0, 0, 1, 0,\n",
       "       0, 0, 1, 0, 0, 1, 1, 1, 1, 0, 1, 0, 0, 0, 0, 1, 0, 1, 0, 0, 0, 1,\n",
       "       0, 0, 0, 1, 1, 1, 1, 0, 0, 0, 0, 0, 1, 0, 1, 1, 0, 0, 0, 1, 0, 1,\n",
       "       0, 1, 1, 0, 1, 0, 0, 0, 0, 0, 1, 1, 1, 0, 0, 1, 0, 0, 0, 0, 0, 1,\n",
       "       0, 1, 0, 0, 1, 0, 1, 0, 0, 0, 0, 1, 0, 0, 0, 0, 0, 1, 1, 0, 1, 0,\n",
       "       0, 0, 1, 0, 0, 0, 0, 0, 0, 1, 0, 0, 0, 1, 1, 0, 1, 1, 0, 0, 0, 0,\n",
       "       1, 0, 1, 1, 1, 0, 0, 0, 0, 0, 0, 0, 1, 0, 0, 0, 0, 0, 0, 0, 0, 0,\n",
       "       1, 0, 0, 1, 0, 0, 1, 0, 1, 0, 1, 1, 0, 0, 1, 0, 1, 0, 0, 0, 0, 1,\n",
       "       0, 0, 0, 1, 1, 1, 1, 1, 1, 1, 0, 0, 0, 1, 0, 1, 0, 0, 0, 0, 0, 0,\n",
       "       0, 0, 0, 0, 1, 1, 0, 0, 0, 0, 0, 0], dtype=int64)"
      ]
     },
     "execution_count": 15,
     "metadata": {},
     "output_type": "execute_result"
    }
   ],
   "source": [
    "y_train"
   ]
  },
  {
   "cell_type": "markdown",
   "metadata": {},
   "source": [
    "####  Scaling the dataset"
   ]
  },
  {
   "cell_type": "code",
   "execution_count": 16,
   "metadata": {},
   "outputs": [],
   "source": [
    "from sklearn.preprocessing import StandardScaler\n",
    "scaler = StandardScaler()\n",
    "X_train = scaler.fit_transform(X_train)\n",
    "X_test = scaler.transform(X_test)"
   ]
  },
  {
   "cell_type": "markdown",
   "metadata": {},
   "source": [
    "# **Model training**\n",
    "\n",
    "Create a LogistiRegression object and fit it with out dataset.The Logistic Regression model is a widely used statistical model which is primarily used for classification purposes.\n",
    "It means that given a set of observations, Logistic Regression algorithm helps us to classify these observations into two or more discrete classes. So, the target variable is discrete in nature."
   ]
  },
  {
   "cell_type": "code",
   "execution_count": 17,
   "metadata": {},
   "outputs": [],
   "source": [
    "from sklearn.linear_model import LogisticRegression\n",
    "lin_reg = LogisticRegression()\n",
    "lin_reg.fit(X_train, y_train)\n",
    "y_pred = lin_reg.predict(X_test)"
   ]
  },
  {
   "cell_type": "markdown",
   "metadata": {},
   "source": [
    "### Model Evaluation"
   ]
  },
  {
   "cell_type": "code",
   "execution_count": 18,
   "metadata": {},
   "outputs": [
    {
     "name": "stdout",
     "output_type": "stream",
     "text": [
      "Confusion matrix [[50  2]\n",
      " [ 7 21]]\n"
     ]
    }
   ],
   "source": [
    "from sklearn import metrics\n",
    "cm = metrics.confusion_matrix(y_test, y_pred)\n",
    "print('Confusion matrix',cm)"
   ]
  },
  {
   "cell_type": "code",
   "execution_count": 19,
   "metadata": {},
   "outputs": [
    {
     "data": {
      "text/plain": [
       "array([0, 1, 0, 1, 0, 0, 1, 0, 0, 0, 0, 1, 0, 0, 0, 0, 1, 1, 0, 1, 0, 0,\n",
       "       0, 1, 0, 1, 1, 0, 1, 0, 0, 0, 1, 0, 1, 0, 0, 0, 0, 0, 0, 0, 0, 0,\n",
       "       0, 1, 0, 0, 1, 0, 0, 1, 0, 0, 0, 0, 1, 0, 0, 0, 0, 0, 1, 0, 0, 0,\n",
       "       1, 1, 0, 0, 1, 0, 0, 0, 0, 0, 1, 1, 0, 0], dtype=int64)"
      ]
     },
     "execution_count": 19,
     "metadata": {},
     "output_type": "execute_result"
    }
   ],
   "source": [
    "y_pred"
   ]
  },
  {
   "cell_type": "code",
   "execution_count": 20,
   "metadata": {},
   "outputs": [
    {
     "data": {
      "text/plain": [
       "array([0, 1, 0, 1, 0, 0, 1, 0, 0, 0, 0, 1, 0, 0, 0, 0, 1, 0, 0, 1, 0, 0,\n",
       "       1, 1, 0, 1, 0, 0, 1, 0, 1, 0, 1, 0, 1, 0, 0, 0, 0, 0, 1, 0, 0, 1,\n",
       "       0, 1, 0, 0, 1, 0, 0, 1, 0, 0, 0, 0, 1, 0, 0, 0, 0, 0, 1, 0, 0, 1,\n",
       "       1, 1, 0, 0, 1, 0, 0, 0, 1, 0, 1, 1, 0, 1], dtype=int64)"
      ]
     },
     "execution_count": 20,
     "metadata": {},
     "output_type": "execute_result"
    }
   ],
   "source": [
    "y_test"
   ]
  },
  {
   "cell_type": "code",
   "execution_count": null,
   "metadata": {},
   "outputs": [],
   "source": []
  }
 ],
 "metadata": {
  "kernelspec": {
   "display_name": "Python 3",
   "language": "python",
   "name": "python3"
  },
  "language_info": {
   "codemirror_mode": {
    "name": "ipython",
    "version": 3
   },
   "file_extension": ".py",
   "mimetype": "text/x-python",
   "name": "python",
   "nbconvert_exporter": "python",
   "pygments_lexer": "ipython3",
   "version": "3.7.6"
  }
 },
 "nbformat": 4,
 "nbformat_minor": 4
}
